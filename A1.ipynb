{
  "nbformat": 4,
  "nbformat_minor": 0,
  "metadata": {
    "anaconda-cloud": {},
    "kernelspec": {
      "display_name": "Python 3",
      "language": "python",
      "name": "python3"
    },
    "language_info": {
      "codemirror_mode": {
        "name": "ipython",
        "version": 3
      },
      "file_extension": ".py",
      "mimetype": "text/x-python",
      "name": "python",
      "nbconvert_exporter": "python",
      "pygments_lexer": "ipython3",
      "version": "3.6.5"
    },
    "colab": {
      "name": "A1.ipynb",
      "provenance": [],
      "collapsed_sections": []
    }
  },
  "cells": [
    {
      "cell_type": "markdown",
      "metadata": {
        "id": "N-C_fu2ixkMG"
      },
      "source": [
        "# Задание 1  \n",
        "Основы линейной алгебры"
      ]
    },
    {
      "cell_type": "code",
      "metadata": {
        "id": "S3w-dQrixkMN"
      },
      "source": [
        "import numpy as np"
      ],
      "execution_count": null,
      "outputs": []
    },
    {
      "cell_type": "markdown",
      "metadata": {
        "id": "zJa3KCSmyPy_"
      },
      "source": [
        "## 1. Создание матриц"
      ]
    },
    {
      "cell_type": "markdown",
      "metadata": {
        "id": "VKmyO8HR1SDh"
      },
      "source": [
        "Создайте квадратную матрицу из девяти элементов типа uint8 с элементами от 1 до 8 включительно."
      ]
    },
    {
      "cell_type": "code",
      "metadata": {
        "id": "Y6lGtNomxkMP"
      },
      "source": [
        "a = np.array([[0, 1, 2], [3, 4, 5], [6, 7, 8]], dtype=np.uint8)\n",
        "\n",
        "# Code here\n",
        "b = None\n",
        "#\n",
        "\n",
        "assert (a == b).all() , \"Not equals\"\n",
        "assert b.dtype == np.uint8, \"Type not uint8\""
      ],
      "execution_count": null,
      "outputs": []
    },
    {
      "cell_type": "markdown",
      "metadata": {
        "id": "i-IqcdDDxkMa"
      },
      "source": [
        "## 2. Операции над матрицами"
      ]
    },
    {
      "cell_type": "markdown",
      "metadata": {
        "id": "NzF9wgYZxkMa"
      },
      "source": [
        "Создайте квадратную матрицу из девяти элементов с элементами от 1 до 8 включительно и прибавьте 10 к каждому элементу."
      ]
    },
    {
      "cell_type": "code",
      "metadata": {
        "id": "QUeePm02xkMa"
      },
      "source": [
        "a = np.array([[10, 11, 12], [13, 14, 15], [16, 17, 18]])\n",
        "\n",
        "# Code here\n",
        "b = None\n",
        "#\n",
        "\n",
        "assert (a == b).all() , \"Not equals\""
      ],
      "execution_count": null,
      "outputs": []
    },
    {
      "cell_type": "markdown",
      "metadata": {
        "id": "EdEVkDPN2Lnn"
      },
      "source": [
        "Найдите такую матрицу, чтобы при умножении квадратной матрицы 3х3 получилась матрица размера 3х2 с элементами 1.\n"
      ]
    },
    {
      "cell_type": "code",
      "metadata": {
        "id": "aqoDadlYxkMb"
      },
      "source": [
        "a = np.ones((3,3))\n",
        "\n",
        "# Code here\n",
        "b = None\n",
        "#\n",
        "\n",
        "assert (np.ones((3, 2)) == a@b).all(), \"Not equals\""
      ],
      "execution_count": null,
      "outputs": []
    },
    {
      "cell_type": "markdown",
      "metadata": {
        "id": "rS784rXPxkMc"
      },
      "source": [
        "## 3. Softmax преобразование"
      ]
    },
    {
      "cell_type": "markdown",
      "metadata": {
        "id": "fWkWx1kDxkMc"
      },
      "source": [
        "Выполните Softmax преобразование над вектором из элементов от 1 до 9 включительно. \n",
        "\n",
        "$$\\sigma (z)_{i}={\\frac {e^{z_{i}}}{\\displaystyle \\sum _{k\\mathop {=} 1}^{K}e^{z_{k}}}}$$"
      ]
    },
    {
      "cell_type": "code",
      "metadata": {
        "id": "wAtv8cY05idH"
      },
      "source": [
        "z = np.arange(1, 9)\n",
        "\n",
        "# Code here\n",
        "s = None\n",
        "#\n",
        "\n",
        "assert np.allclose(s, np.array([5.76612770e-04, 1.56739601e-03, 4.26062410e-03, \n",
        "1.15815771e-02, 3.14819905e-02, 8.55769227e-02, 2.32622194e-01, 6.32332683e-01]))\n"
      ],
      "execution_count": null,
      "outputs": []
    },
    {
      "cell_type": "markdown",
      "metadata": {
        "id": "xdPVKlxVxkMf"
      },
      "source": [
        "## 4. Расстояния между векторами"
      ]
    },
    {
      "cell_type": "markdown",
      "metadata": {
        "id": "VQedmu-ixkMf"
      },
      "source": [
        "Для двух векторов $x = (x_{1}, \\dots, x_{n}) \\in \\mathbb{R}^{n}$ и $y = (y_{1}, \\dots, y_{n}) \\in \\mathbb{R}^{n}$ $\\ell_{1}$ и $\\ell_{2}$ раccтояния вычисляются по следующим формулам соответственно:\n",
        "\n",
        "$$\n",
        " \\rho_{1}\\left( x, y \\right) = \\left\\Vert x - y \\right\\Vert_{1} = \\sum_{i=1}^n \\left| x_{i} - y_{i} \\right|\n",
        "$$\n",
        "\n",
        "$$\n",
        " \\rho_{2}\\left( x, y \\right) = \\left\\Vert x - y \\right\\Vert_{2} = \n",
        " \\sqrt{\\sum_{i=1}^n \\left( x_{i} - y_{i} \\right)^2}.\n",
        "$$  \n",
        "  \n",
        "Вычислите расстояния r1 и r2 между векторами a, b"
      ]
    },
    {
      "cell_type": "code",
      "metadata": {
        "id": "5T5zMkMxxkMf"
      },
      "source": [
        "a = np.arange(9)\n",
        "b = np.ones(9)\n",
        "\n",
        "# Code here\n",
        "r1 = None\n",
        "r2 = None\n",
        "\n",
        "assert np.isclose(r1, 29.0)\n",
        "assert np.isclose(r2, 11.874342)"
      ],
      "execution_count": null,
      "outputs": []
    },
    {
      "cell_type": "markdown",
      "metadata": {
        "id": "TFblLeXFxkMi"
      },
      "source": [
        "## 5. Скалярное произведение и угол между векторами"
      ]
    },
    {
      "cell_type": "markdown",
      "metadata": {
        "id": "qQLTzCqaxkMk"
      },
      "source": [
        "Скалярное произведение в пространстве $\\mathbb{R}^{n}$ для двух векторов $x = (x_{1}, \\dots, x_{n})$ и $y = (y_{1}, \\dots, y_{n})$ определяется как:\n",
        "\n",
        "$$\n",
        "\\langle x, y \\rangle = \\sum_{i=1}^n x_{i} y_{i}.\n",
        "$$  \n",
        "\n",
        "Вычислите скалярное произведение a и b"
      ]
    },
    {
      "cell_type": "code",
      "metadata": {
        "id": "oMibk7KqxkMk"
      },
      "source": [
        "inner = None\n",
        "\n",
        "assert np.isclose(inner, 36) "
      ],
      "execution_count": null,
      "outputs": []
    },
    {
      "cell_type": "markdown",
      "metadata": {
        "id": "pTpPxkAHxkMl"
      },
      "source": [
        "Длиной вектора $x = (x_{1}, \\dots, x_{n}) \\in \\mathbb{R}^{n}$ называется квадратный корень из скалярного произведения, то есть длина равна евклидовой норме вектора:\n",
        "\n",
        "$$\n",
        "\\left| x \\right| = \\sqrt{\\langle x, x \\rangle} = \\sqrt{\\sum_{i=1}^n x_{i}^2} =  \\left\\Vert x \\right\\Vert_{2}.\n",
        "$$"
      ]
    },
    {
      "cell_type": "markdown",
      "metadata": {
        "id": "JcQ-QyzfxkMl"
      },
      "source": [
        "Теперь, когда мы знаем расстояние между двумя ненулевыми векторами и их длины, мы можем вычислить угол между ними через скалярное произведение:\n",
        "\n",
        "$$\n",
        "\\langle x, y \\rangle = \\left| x \\right| | y | \\cos(\\alpha)\n",
        "\\implies \\cos(\\alpha) = \\frac{\\langle x, y \\rangle}{\\left|| x |\\right| || y ||},\n",
        "$$\n",
        "\n",
        "где $\\alpha \\in [0, \\pi]$ — угол между векторами $x$ и $y$.  \n",
        "\n",
        "Вычислите косинус угла между a и b"
      ]
    },
    {
      "cell_type": "code",
      "metadata": {
        "id": "phovUpDmxkMl"
      },
      "source": [
        "cos_angle = None\n",
        "\n",
        "assert np.isclose(cos_angle, 0.840168) "
      ],
      "execution_count": null,
      "outputs": []
    },
    {
      "cell_type": "markdown",
      "metadata": {
        "id": "uX7uhKH3xkMl"
      },
      "source": [
        "## 6. Теория вероятностей  \n",
        "Постройте график распределения плотности вероятности случайной величины, распределенной по нормальному закону."
      ]
    }
  ]
}